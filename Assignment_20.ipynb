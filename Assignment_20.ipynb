{
  "nbformat": 4,
  "nbformat_minor": 0,
  "metadata": {
    "colab": {
      "provenance": []
    },
    "kernelspec": {
      "name": "python3",
      "display_name": "Python 3"
    },
    "language_info": {
      "name": "python"
    }
  },
  "cells": [
    {
      "cell_type": "markdown",
      "source": [
        "# Assignment_20"
      ],
      "metadata": {
        "id": "zprBP2OBUufn"
      }
    },
    {
      "cell_type": "markdown",
      "source": [
        "### 1. Set the variable test1 to the string 'This is a test of the emergency text system,' and save test1 to a file named test.txt."
      ],
      "metadata": {
        "id": "3etgkCDaU0Zh"
      }
    },
    {
      "cell_type": "code",
      "execution_count": 1,
      "metadata": {
        "colab": {
          "base_uri": "https://localhost:8080/"
        },
        "id": "FR7LHHUMUrIl",
        "outputId": "c22ba5dd-0d7e-4967-937c-e26ad5e5aca5"
      },
      "outputs": [
        {
          "output_type": "execute_result",
          "data": {
            "text/plain": [
              "43"
            ]
          },
          "metadata": {},
          "execution_count": 1
        }
      ],
      "source": [
        "test1 = 'This is a test of the emergency text system'\n",
        "len(test1)"
      ]
    },
    {
      "cell_type": "code",
      "source": [
        "outfile = open('test.txt', 'wt')\n",
        "outfile.write(test1)"
      ],
      "metadata": {
        "colab": {
          "base_uri": "https://localhost:8080/"
        },
        "id": "37tJUkR2VDmp",
        "outputId": "acd2f174-7615-42bc-f9ef-2faaa22fe1e0"
      },
      "execution_count": 2,
      "outputs": [
        {
          "output_type": "execute_result",
          "data": {
            "text/plain": [
              "43"
            ]
          },
          "metadata": {},
          "execution_count": 2
        }
      ]
    },
    {
      "cell_type": "code",
      "source": [
        "outfile.close()"
      ],
      "metadata": {
        "id": "j6OsN95sVIS5"
      },
      "execution_count": 3,
      "outputs": []
    },
    {
      "cell_type": "markdown",
      "source": [
        "### 2. Read the contents of the file test.txt into the variable test2. Is there a difference between test 1 and test 2?"
      ],
      "metadata": {
        "id": "gSx4y0o4VPUj"
      }
    },
    {
      "cell_type": "code",
      "source": [
        "with open('test.txt', 'rt') as infile:\n",
        "    test2 = infile.read()\n",
        "len(test2)"
      ],
      "metadata": {
        "colab": {
          "base_uri": "https://localhost:8080/"
        },
        "id": "uy3Ly3RxVMGA",
        "outputId": "6d590361-1846-4510-b46e-32abcc7af4d5"
      },
      "execution_count": 4,
      "outputs": [
        {
          "output_type": "execute_result",
          "data": {
            "text/plain": [
              "43"
            ]
          },
          "metadata": {},
          "execution_count": 4
        }
      ]
    },
    {
      "cell_type": "markdown",
      "source": [
        "### 3. Create a CSV file called books.csv by using these lines:title,author,year The Weirdstone of Brisingamen,Alan Garner,1960 Perdido Street Station,China Miéville,2000 Thud!,Terry Pratchett,2005 The Spellman Files,Lisa Lutz,2007 Small Gods,Terry Pratchett,1992"
      ],
      "metadata": {
        "id": "zyc_X-jXVeX0"
      }
    },
    {
      "cell_type": "code",
      "source": [
        "text='''title,author,year\n",
        "The Weirdstone of Brisingamen,Alan Garner,1960\n",
        "Perdido Street Station,China Miéville,2000\n",
        "Thud!,Terry Pratchett,2005\n",
        "The Spellman Files,Lisa Lutz,2007\n",
        "Small Gods,Terry Pratchett,1992'''"
      ],
      "metadata": {
        "id": "3ysBF_PnVaRt"
      },
      "execution_count": 5,
      "outputs": []
    },
    {
      "cell_type": "code",
      "source": [
        "with open('books.csv', 'wt') as outfile:\n",
        "    outfile.write(text)"
      ],
      "metadata": {
        "id": "IzSXy2EYVuHb"
      },
      "execution_count": 6,
      "outputs": []
    },
    {
      "cell_type": "markdown",
      "source": [
        "### 4. Use the sqlite3 module to create a SQLite database called books.db, and a table called books with these fields: title (text), author (text), and year (integer)."
      ],
      "metadata": {
        "id": "DdXJrVELV2wL"
      }
    },
    {
      "cell_type": "code",
      "source": [
        "import sqlite3\n",
        "db = sqlite3.connect('books.db')\n",
        "curs = db.cursor()\n",
        "curs.execute('''create table book (title text, author text, year int)''')"
      ],
      "metadata": {
        "colab": {
          "base_uri": "https://localhost:8080/"
        },
        "id": "FcDVX_wSVwIf",
        "outputId": "4443a1b7-9abd-46cc-e04e-d426cba4d83c"
      },
      "execution_count": 7,
      "outputs": [
        {
          "output_type": "execute_result",
          "data": {
            "text/plain": [
              "<sqlite3.Cursor at 0x7f7d048bd730>"
            ]
          },
          "metadata": {},
          "execution_count": 7
        }
      ]
    },
    {
      "cell_type": "code",
      "source": [
        "db.commit()"
      ],
      "metadata": {
        "id": "MT-4dxZXV8Gq"
      },
      "execution_count": 8,
      "outputs": []
    },
    {
      "cell_type": "markdown",
      "source": [
        "### 5. Read books.csv and insert its data into the book table."
      ],
      "metadata": {
        "id": "m3ZhgkY1WEjs"
      }
    },
    {
      "cell_type": "code",
      "source": [
        "import csv\n",
        "import sqlite3"
      ],
      "metadata": {
        "id": "r0-XjG6RWBwc"
      },
      "execution_count": 9,
      "outputs": []
    },
    {
      "cell_type": "code",
      "source": [
        "ins_str = 'insert into book values(?, ?, ?)'"
      ],
      "metadata": {
        "id": "A_tv3H3aWJYy"
      },
      "execution_count": 10,
      "outputs": []
    },
    {
      "cell_type": "code",
      "source": [
        "with open('books.csv', 'rt') as infile:\n",
        "    books = csv.DictReader(infile)\n",
        "    for book in books:\n",
        "        curs.execute(ins_str, (book['title'], book['author'], book['year']))\n",
        "db.commit()"
      ],
      "metadata": {
        "id": "peLzk254WLff"
      },
      "execution_count": 12,
      "outputs": []
    },
    {
      "cell_type": "markdown",
      "source": [
        "### 6. Select and print the title column from the book table in alphabetical order."
      ],
      "metadata": {
        "id": "XvHwlABtWTOU"
      }
    },
    {
      "cell_type": "code",
      "source": [
        "sql = 'select title from book order by title asc'\n",
        "for row in db.execute(sql):\n",
        "    print(row)"
      ],
      "metadata": {
        "colab": {
          "base_uri": "https://localhost:8080/"
        },
        "id": "p2irqDYTWSAG",
        "outputId": "48e6d5a8-0217-4c1b-8f76-722b06b2cea4"
      },
      "execution_count": 13,
      "outputs": [
        {
          "output_type": "stream",
          "name": "stdout",
          "text": [
            "('Perdido Street Station',)\n",
            "('Perdido Street Station',)\n",
            "('Small Gods',)\n",
            "('Small Gods',)\n",
            "('The Spellman Files',)\n",
            "('The Spellman Files',)\n",
            "('The Weirdstone of Brisingamen',)\n",
            "('The Weirdstone of Brisingamen',)\n",
            "('Thud!',)\n",
            "('Thud!',)\n"
          ]
        }
      ]
    },
    {
      "cell_type": "code",
      "source": [
        "for row in db.execute(sql):\n",
        "    print(row[0])"
      ],
      "metadata": {
        "colab": {
          "base_uri": "https://localhost:8080/"
        },
        "id": "HHmVdUupWXx-",
        "outputId": "4255e06f-69c3-41f0-e373-6d1caebd7f64"
      },
      "execution_count": 14,
      "outputs": [
        {
          "output_type": "stream",
          "name": "stdout",
          "text": [
            "Perdido Street Station\n",
            "Perdido Street Station\n",
            "Small Gods\n",
            "Small Gods\n",
            "The Spellman Files\n",
            "The Spellman Files\n",
            "The Weirdstone of Brisingamen\n",
            "The Weirdstone of Brisingamen\n",
            "Thud!\n",
            "Thud!\n"
          ]
        }
      ]
    },
    {
      "cell_type": "markdown",
      "source": [
        "### 7. From the book table, select and print all columns in the order of publication."
      ],
      "metadata": {
        "id": "0Xg5Cz4EWc-a"
      }
    },
    {
      "cell_type": "code",
      "source": [
        "for row in db.execute('select * from book order by year'):\n",
        "    print(row)"
      ],
      "metadata": {
        "colab": {
          "base_uri": "https://localhost:8080/"
        },
        "id": "SnELWcf9WaGB",
        "outputId": "b15508a3-9166-4928-f9be-8528aa08b5aa"
      },
      "execution_count": 15,
      "outputs": [
        {
          "output_type": "stream",
          "name": "stdout",
          "text": [
            "('The Weirdstone of Brisingamen', 'Alan Garner', 1960)\n",
            "('The Weirdstone of Brisingamen', 'Alan Garner', 1960)\n",
            "('Small Gods', 'Terry Pratchett', 1992)\n",
            "('Small Gods', 'Terry Pratchett', 1992)\n",
            "('Perdido Street Station', 'China Miéville', 2000)\n",
            "('Perdido Street Station', 'China Miéville', 2000)\n",
            "('Thud!', 'Terry Pratchett', 2005)\n",
            "('Thud!', 'Terry Pratchett', 2005)\n",
            "('The Spellman Files', 'Lisa Lutz', 2007)\n",
            "('The Spellman Files', 'Lisa Lutz', 2007)\n"
          ]
        }
      ]
    },
    {
      "cell_type": "code",
      "source": [
        "for row in db.execute('select * from book order by year'):\n",
        "    print(*row, sep=', ')"
      ],
      "metadata": {
        "colab": {
          "base_uri": "https://localhost:8080/"
        },
        "id": "_Wmw9oVZWf95",
        "outputId": "bd2709a2-0312-433c-ca45-022f0a2f1b39"
      },
      "execution_count": 16,
      "outputs": [
        {
          "output_type": "stream",
          "name": "stdout",
          "text": [
            "The Weirdstone of Brisingamen, Alan Garner, 1960\n",
            "The Weirdstone of Brisingamen, Alan Garner, 1960\n",
            "Small Gods, Terry Pratchett, 1992\n",
            "Small Gods, Terry Pratchett, 1992\n",
            "Perdido Street Station, China Miéville, 2000\n",
            "Perdido Street Station, China Miéville, 2000\n",
            "Thud!, Terry Pratchett, 2005\n",
            "Thud!, Terry Pratchett, 2005\n",
            "The Spellman Files, Lisa Lutz, 2007\n",
            "The Spellman Files, Lisa Lutz, 2007\n"
          ]
        }
      ]
    },
    {
      "cell_type": "markdown",
      "source": [
        "### 8. Use the sqlalchemy module to connect to the sqlite3 database books.db that you just made in exercise 6."
      ],
      "metadata": {
        "id": "wwMQ-QtcWkn-"
      }
    },
    {
      "cell_type": "code",
      "source": [
        "import sqlalchemy\n",
        "conn = sqlalchemy.create_engine('sqlite:///books.db')\n",
        "sql = 'select title from book order by title asc'\n",
        "rows = conn.execute(sql)"
      ],
      "metadata": {
        "colab": {
          "base_uri": "https://localhost:8080/"
        },
        "id": "T6m2YCSMWiMB",
        "outputId": "09249b8d-7f9d-46ac-f683-7376c276ee47"
      },
      "execution_count": 17,
      "outputs": [
        {
          "output_type": "stream",
          "name": "stderr",
          "text": [
            "<ipython-input-17-d2bff45721e2>:4: RemovedIn20Warning: Deprecated API features detected! These feature(s) are not compatible with SQLAlchemy 2.0. To prevent incompatible upgrades prior to updating applications, ensure requirements files are pinned to \"sqlalchemy<2.0\". Set environment variable SQLALCHEMY_WARN_20=1 to show all deprecation warnings.  Set environment variable SQLALCHEMY_SILENCE_UBER_WARNING=1 to silence this message. (Background on SQLAlchemy 2.0 at: https://sqlalche.me/e/b8d9)\n",
            "  rows = conn.execute(sql)\n"
          ]
        }
      ]
    },
    {
      "cell_type": "code",
      "source": [
        "for row in rows:\n",
        "     print(row)"
      ],
      "metadata": {
        "colab": {
          "base_uri": "https://localhost:8080/"
        },
        "id": "tFU8ZrHqWoZ0",
        "outputId": "bce02a6e-fb07-45a0-eac5-de6d51f244d9"
      },
      "execution_count": 18,
      "outputs": [
        {
          "output_type": "stream",
          "name": "stdout",
          "text": [
            "('Perdido Street Station',)\n",
            "('Perdido Street Station',)\n",
            "('Small Gods',)\n",
            "('Small Gods',)\n",
            "('The Spellman Files',)\n",
            "('The Spellman Files',)\n",
            "('The Weirdstone of Brisingamen',)\n",
            "('The Weirdstone of Brisingamen',)\n",
            "('Thud!',)\n",
            "('Thud!',)\n"
          ]
        }
      ]
    },
    {
      "cell_type": "markdown",
      "source": [
        "### 9. Install the Redis server and the Python redis library (pip install redis) on your computer. Create a Redis hash called test with the fields count (1) and name ('Fester Bestertester'). Print all the fields for test."
      ],
      "metadata": {
        "id": "P7K5KvG8Wvpk"
      }
    },
    {
      "cell_type": "code",
      "source": [
        "!pip install redis"
      ],
      "metadata": {
        "colab": {
          "base_uri": "https://localhost:8080/"
        },
        "id": "iOmHNa14Ws-B",
        "outputId": "d479845f-bee4-45b8-9ce8-be45b5576a47"
      },
      "execution_count": 19,
      "outputs": [
        {
          "output_type": "stream",
          "name": "stdout",
          "text": [
            "Looking in indexes: https://pypi.org/simple, https://us-python.pkg.dev/colab-wheels/public/simple/\n",
            "Collecting redis\n",
            "  Downloading redis-4.5.1-py3-none-any.whl (238 kB)\n",
            "\u001b[2K     \u001b[90m━━━━━━━━━━━━━━━━━━━━━━━━━━━━━━━━━━━━━━\u001b[0m \u001b[32m238.5/238.5 KB\u001b[0m \u001b[31m12.3 MB/s\u001b[0m eta \u001b[36m0:00:00\u001b[0m\n",
            "\u001b[?25hCollecting async-timeout>=4.0.2\n",
            "  Downloading async_timeout-4.0.2-py3-none-any.whl (5.8 kB)\n",
            "Installing collected packages: async-timeout, redis\n",
            "Successfully installed async-timeout-4.0.2 redis-4.5.1\n"
          ]
        }
      ]
    },
    {
      "cell_type": "markdown",
      "source": [
        "import redis conn = redis.Redis() conn.delete('test') 1 conn.hmset('test', {'count': 1, 'name': 'Fester Bestertester'}) True conn.hgetall('test') {b'name': b'Fester Bestertester', b'count': b'1'}"
      ],
      "metadata": {
        "id": "0G4oVT-SXJlT"
      }
    },
    {
      "cell_type": "markdown",
      "source": [
        "### 10. Increment the count field of test and print it."
      ],
      "metadata": {
        "id": "XIwb3L7ZW7d5"
      }
    },
    {
      "cell_type": "code",
      "source": [
        "conn.hincrby('test', 'count', 3) 4 conn.hget('test', 'count') b'4'"
      ],
      "metadata": {
        "id": "iRJLzyCmXBA2"
      },
      "execution_count": null,
      "outputs": []
    }
  ]
}