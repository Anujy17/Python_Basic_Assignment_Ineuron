{
 "cells": [
  {
   "cell_type": "markdown",
   "id": "00be8cc0",
   "metadata": {},
   "source": [
    "# Assignement 9"
   ]
  },
  {
   "cell_type": "markdown",
   "id": "c6aa713b",
   "metadata": {},
   "source": [
    "# 1. To what does a relative path refer?\n",
    "relative path means path from the current working directory "
   ]
  },
  {
   "cell_type": "markdown",
   "id": "123cd027",
   "metadata": {},
   "source": [
    "# 2. What does an absolute path start with your operating system?\n",
    "absolute path is path from the root directory and it starts with / in linux and C: in windows"
   ]
  },
  {
   "cell_type": "markdown",
   "id": "04e1806d",
   "metadata": {},
   "source": [
    "# 3. What do the functions os.getcwd() and os.chdir() do?\n",
    "os.getcwd() represents the current working directory and os.chdir() used to change the directory"
   ]
  },
  {
   "cell_type": "markdown",
   "id": "5987c1e6",
   "metadata": {},
   "source": [
    "# 4. What are the . and .. folders?\n",
    ". represents current directory where as .. used for parent directory"
   ]
  },
  {
   "cell_type": "markdown",
   "id": "9477dab9",
   "metadata": {},
   "source": [
    "# 5. In C:\\bacon\\eggs\\spam.txt, which part is the dir name, and which part is the base name?\n",
    "C:\\bacon\\eggs is directory name and base is spam.txt"
   ]
  },
  {
   "cell_type": "markdown",
   "id": "c3f8ad5d",
   "metadata": {},
   "source": [
    "# 6. What are the three “mode” arguments that can be passed to the open() function?\n",
    "three mode is read 'r' for reading write 'w' for writing  and append 'a' for append to the file"
   ]
  },
  {
   "cell_type": "markdown",
   "id": "484f419b",
   "metadata": {},
   "source": [
    "# 7. What happens if an existing file is opened in write mode?\n",
    "if we open a file in write mode then file is going to overwritten."
   ]
  },
  {
   "cell_type": "markdown",
   "id": "f9fcb6a3",
   "metadata": {},
   "source": [
    "# 8. How do you tell the difference between read() and readlines()?\n",
    "read() is used to read entire data at once and readline() is used to read one line at a time"
   ]
  },
  {
   "cell_type": "markdown",
   "id": "393eccf8",
   "metadata": {},
   "source": [
    "# 9. What data structure does a shelf value resemble?\n",
    "A shelf value resembles a dictionary value; it has keys and values, along with keys() and values() methods that work similarly to the dictionary methods of the same names."
   ]
  },
  {
   "cell_type": "code",
   "execution_count": null,
   "id": "68c44373",
   "metadata": {},
   "outputs": [],
   "source": []
  }
 ],
 "metadata": {
  "kernelspec": {
   "display_name": "Python 3 (ipykernel)",
   "language": "python",
   "name": "python3"
  },
  "language_info": {
   "codemirror_mode": {
    "name": "ipython",
    "version": 3
   },
   "file_extension": ".py",
   "mimetype": "text/x-python",
   "name": "python",
   "nbconvert_exporter": "python",
   "pygments_lexer": "ipython3",
   "version": "3.9.12"
  }
 },
 "nbformat": 4,
 "nbformat_minor": 5
}
