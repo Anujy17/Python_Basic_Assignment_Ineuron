{
 "cells": [
  {
   "cell_type": "markdown",
   "id": "1054c2eb",
   "metadata": {},
   "source": [
    "# Assignment 22"
   ]
  },
  {
   "cell_type": "markdown",
   "id": "00dfdfcf",
   "metadata": {},
   "source": [
    "# 1. What is the result of the code, and explain?"
   ]
  },
  {
   "cell_type": "code",
   "execution_count": 2,
   "id": "5c8e5eb0",
   "metadata": {},
   "outputs": [
    {
     "name": "stdout",
     "output_type": "stream",
     "text": [
      "iNeuron\n"
     ]
    }
   ],
   "source": [
    "X = 'iNeuron'\n",
    "def func():\n",
    "    print(X)\n",
    "func()"
   ]
  },
  {
   "cell_type": "markdown",
   "id": "c3f32083",
   "metadata": {},
   "source": [
    "this will return the value to outside becuse it comes under their scope "
   ]
  },
  {
   "cell_type": "markdown",
   "id": "1ed88320",
   "metadata": {},
   "source": [
    "# 2. What is the result of the code, and explain?"
   ]
  },
  {
   "cell_type": "code",
   "execution_count": 3,
   "id": "f4dd0473",
   "metadata": {},
   "outputs": [
    {
     "name": "stdout",
     "output_type": "stream",
     "text": [
      "iNeuron\n"
     ]
    }
   ],
   "source": [
    "X='iNeuron'\n",
    "def func():\n",
    "    X='NI!'\n",
    "func()\n",
    "print(X)"
   ]
  },
  {
   "cell_type": "markdown",
   "id": "d9f7ca90",
   "metadata": {},
   "source": [
    "it will iNeuron becuase x=NI! is limited to inside function scope."
   ]
  },
  {
   "cell_type": "markdown",
   "id": "90ebfafc",
   "metadata": {},
   "source": [
    "# 3. What does this code print, and why?"
   ]
  },
  {
   "cell_type": "code",
   "execution_count": 4,
   "id": "76ef2514",
   "metadata": {},
   "outputs": [
    {
     "name": "stdout",
     "output_type": "stream",
     "text": [
      "NI\n",
      "iNeuron\n"
     ]
    }
   ],
   "source": [
    "X='iNeuron'\n",
    "def func():\n",
    "    X='NI'\n",
    "    print(X)\n",
    "func()\n",
    "print(X)"
   ]
  },
  {
   "cell_type": "markdown",
   "id": "a0d026b1",
   "metadata": {},
   "source": [
    "first it will print NI which is inside function scope and then iNeuron which is global scope"
   ]
  },
  {
   "cell_type": "markdown",
   "id": "f9578b36",
   "metadata": {},
   "source": [
    "# 4. What output does this code produce? Why?"
   ]
  },
  {
   "cell_type": "code",
   "execution_count": 5,
   "id": "6ac12a32",
   "metadata": {},
   "outputs": [
    {
     "name": "stdout",
     "output_type": "stream",
     "text": [
      "NI\n"
     ]
    }
   ],
   "source": [
    "X='iNeuron'\n",
    "def func():\n",
    "    global X\n",
    "    X='NI'\n",
    "func()\n",
    "print(X)"
   ]
  },
  {
   "cell_type": "markdown",
   "id": "d3a4114f",
   "metadata": {},
   "source": [
    "it is going to print NI because we have used global keyword which allows global variables to modified from inside the function"
   ]
  },
  {
   "cell_type": "markdown",
   "id": "b83fa2d9",
   "metadata": {},
   "source": [
    "# 5. What about this code—what’s the output, and why?"
   ]
  },
  {
   "cell_type": "code",
   "execution_count": 6,
   "id": "9b2e2baa",
   "metadata": {},
   "outputs": [
    {
     "name": "stdout",
     "output_type": "stream",
     "text": [
      "NI\n"
     ]
    },
    {
     "data": {
      "text/plain": [
       "'iNeuron'"
      ]
     },
     "execution_count": 6,
     "metadata": {},
     "output_type": "execute_result"
    }
   ],
   "source": [
    "X='iNeuron'\n",
    "def func():\n",
    "    X='NI'\n",
    "    def nested():\n",
    "        print(X)\n",
    "    nested()\n",
    "func()\n",
    "X"
   ]
  },
  {
   "cell_type": "markdown",
   "id": "20c61dc0",
   "metadata": {},
   "source": [
    "first it has printed NI becasue it was in nonlocal spcace and then iNeuron which is in global scope."
   ]
  },
  {
   "cell_type": "markdown",
   "id": "8570560b",
   "metadata": {},
   "source": [
    "# 6. How about this code: what is its output in Python 3, and explain?"
   ]
  },
  {
   "cell_type": "code",
   "execution_count": 7,
   "id": "acabc1f7",
   "metadata": {},
   "outputs": [
    {
     "name": "stdout",
     "output_type": "stream",
     "text": [
      "Spam\n"
     ]
    }
   ],
   "source": [
    "def func():\n",
    "    X='NI'\n",
    "    def nested():\n",
    "        nonlocal X\n",
    "        X='Spam'\n",
    "    nested()\n",
    "    print(X)\n",
    "func()"
   ]
  },
  {
   "cell_type": "markdown",
   "id": "ec6633af",
   "metadata": {},
   "source": [
    "it has printed spam becuase nolocal keyword allows X to modified from nested function"
   ]
  }
 ],
 "metadata": {
  "kernelspec": {
   "display_name": "Python 3 (ipykernel)",
   "language": "python",
   "name": "python3"
  },
  "language_info": {
   "codemirror_mode": {
    "name": "ipython",
    "version": 3
   },
   "file_extension": ".py",
   "mimetype": "text/x-python",
   "name": "python",
   "nbconvert_exporter": "python",
   "pygments_lexer": "ipython3",
   "version": "3.9.12"
  }
 },
 "nbformat": 4,
 "nbformat_minor": 5
}
