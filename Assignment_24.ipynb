{
 "cells": [
  {
   "cell_type": "markdown",
   "id": "7db99f09",
   "metadata": {},
   "source": [
    "# Assignment 24"
   ]
  },
  {
   "cell_type": "markdown",
   "id": "ac9e4fbe",
   "metadata": {},
   "source": [
    "# 1. What is the relationship between def statements and lambda expressions ?"
   ]
  },
  {
   "cell_type": "markdown",
   "id": "c04e4d0d",
   "metadata": {},
   "source": [
    "def keyword is used for creating a function with name and it is used commanly because of its simplicity.\n",
    "if we do not include return keyword in def function then it does not return any values\n",
    "it can perform any task like nested loops conditions try except blocks etc."
   ]
  },
  {
   "cell_type": "markdown",
   "id": "74f0efb0",
   "metadata": {},
   "source": [
    "lambda is also called as anonymous funtion it is one line funtions where it take parameter and return object by default. it is tricky some time"
   ]
  },
  {
   "cell_type": "markdown",
   "id": "6bec1f8d",
   "metadata": {},
   "source": [
    "# 2. What is the benefit of lambda?"
   ]
  },
  {
   "cell_type": "markdown",
   "id": "1ef036e2",
   "metadata": {},
   "source": [
    "Lambda functions allow you to create small, single-use functions that can save time and space in your code. They ares also useful when you need to call a function that expects a function as an argument for a callback such as Map() and Filter() ."
   ]
  },
  {
   "cell_type": "markdown",
   "id": "a4869768",
   "metadata": {},
   "source": [
    "# 3. Compare and contrast map, filter, and reduce."
   ]
  },
  {
   "cell_type": "code",
   "execution_count": null,
   "id": "05134309",
   "metadata": {},
   "outputs": [],
   "source": [
    "map applies as a transformation to an element.\n",
    "The map() function iterates through all items in the given iterable and executes the function we \n",
    "passed as an argument on each of them.\n",
    "Syntax : map(function, iterable(s))"
   ]
  },
  {
   "cell_type": "code",
   "execution_count": null,
   "id": "f6e142ac",
   "metadata": {},
   "outputs": [],
   "source": [
    "filter accumulates only elements matching a condition.\n",
    "filter() forms a new list that contains only elements that satisfy a certain condition, i.e. the function we \n",
    "passed returns True\n",
    "Syntax : filter(function, iterable(s))\n"
   ]
  },
  {
   "cell_type": "code",
   "execution_count": null,
   "id": "775f142e",
   "metadata": {},
   "outputs": [],
   "source": [
    "reduce accumulates all elements to a single value, by using immutable values\n",
    "reduce() works by calling the function we passed for the first two items in the sequence. The result returned by \n",
    "the function is used in another call to function alongside with the next (third in this case), element\n",
    "Syntax : reduce(function, sequence[, initial])"
   ]
  },
  {
   "cell_type": "code",
   "execution_count": 2,
   "id": "ea637853",
   "metadata": {},
   "outputs": [
    {
     "name": "stdout",
     "output_type": "stream",
     "text": [
      "True\n",
      "False\n",
      "False\n",
      "True\n",
      "False\n"
     ]
    }
   ],
   "source": [
    "### Map functions\n",
    "fruit = [\"Apple\", \"Banana\", \"Pear\", \"Apricot\", \"Orange\"]\n",
    "map_object = map(lambda s: s[0] == \"A\", fruit)\n",
    "\n",
    "#print(list(map_object))\n",
    "for i in map_object:\n",
    "    print(i)"
   ]
  },
  {
   "cell_type": "code",
   "execution_count": 3,
   "id": "7ed89805",
   "metadata": {},
   "outputs": [
    {
     "name": "stdout",
     "output_type": "stream",
     "text": [
      "Apple\n",
      "Apricot\n"
     ]
    }
   ],
   "source": [
    "### Filter functions\n",
    "fruit = [\"Apple\", \"Banana\", \"Pear\", \"Apricot\", \"Orange\"]\n",
    "filter_object = filter(lambda s: s[0] == \"A\", fruit)\n",
    "\n",
    "for i in filter_object:\n",
    "    print(i)"
   ]
  },
  {
   "cell_type": "code",
   "execution_count": 4,
   "id": "148685a0",
   "metadata": {},
   "outputs": [
    {
     "name": "stdout",
     "output_type": "stream",
     "text": [
      "16\n",
      "With an initial value: 26\n"
     ]
    }
   ],
   "source": [
    "### Reduce function\n",
    "from functools import reduce\n",
    "\n",
    "list = [2, 4, 7, 3]\n",
    "print(reduce(lambda x, y: x + y, list))\n",
    "print(\"With an initial value: \" + str(reduce(lambda x, y: x + y, list, 10)))"
   ]
  },
  {
   "cell_type": "code",
   "execution_count": 5,
   "id": "038ce053",
   "metadata": {},
   "outputs": [
    {
     "name": "stdout",
     "output_type": "stream",
     "text": [
      "16\n"
     ]
    }
   ],
   "source": [
    "### Reduce function\n",
    "from functools import reduce\n",
    "\n",
    "def add(x, y):\n",
    "    return x + y\n",
    "\n",
    "list = [2, 4, 7, 3]\n",
    "print(reduce(add, list))"
   ]
  },
  {
   "cell_type": "markdown",
   "id": "9cc85dd2",
   "metadata": {},
   "source": [
    "# 4. What are function annotations, and how are they used?"
   ]
  },
  {
   "cell_type": "markdown",
   "id": "0841d690",
   "metadata": {},
   "source": [
    "Function annotation is the standard way to access the metadata with the arguments and the return value of the function.\n",
    "These are nothing but some random and optional Python expressions that get allied to different parts of the function.\n",
    "They get evaluated only during the compile-time and have no significance during the run-time of the code.\n",
    "They do not have any significance or meaning associated with them until accessed by some third-party libraries.\n",
    "They are used to type check the functions by declaring the type of the parameters and the return value for the functions.\n",
    "The string-based annotations help us to improve the help messages.\n"
   ]
  },
  {
   "cell_type": "markdown",
   "id": "6ecbdf55",
   "metadata": {},
   "source": [
    "Syntax :\n",
    "    def func(a: 'int') -> 'int':\n",
    "        pass\n"
   ]
  },
  {
   "cell_type": "code",
   "execution_count": null,
   "id": "e3aab2bc",
   "metadata": {},
   "outputs": [],
   "source": [
    "Annotations for simple parameters:\n",
    "    def func(x: 'float'=10.8, y: 'argument2'):\n",
    "        In the above code the argument, ‘x’ of the function func, \n",
    "        has been annotated to float data type and the argument ‘y’ \n",
    "        has a string-based annotation. The argument can also be \n",
    "        assigned to a default value using a ‘=’ symbol followed \n",
    "        by the default value. These default values are optional to the code."
   ]
  },
  {
   "cell_type": "code",
   "execution_count": null,
   "id": "e49995f0",
   "metadata": {},
   "outputs": [],
   "source": [
    "Annotations for return values:\n",
    "    def func(a: expression) -> 'int':\n",
    "        The annotations for the return value is written after the ‘->’ symbol."
   ]
  },
  {
   "cell_type": "code",
   "execution_count": 1,
   "id": "22b22d00",
   "metadata": {},
   "outputs": [
    {
     "name": "stdout",
     "output_type": "stream",
     "text": [
      "{'n': 'float', 'b': 'int', 'return': 'result'}\n"
     ]
    }
   ],
   "source": [
    "def fib(n:'float', b:'int')-> 'result': \n",
    "    pass\n",
    "print(fib.__annotations__)"
   ]
  },
  {
   "cell_type": "markdown",
   "id": "f9531333",
   "metadata": {},
   "source": [
    "# 5. What are recursive functions, and how are they used?"
   ]
  },
  {
   "cell_type": "markdown",
   "id": "85eac686",
   "metadata": {},
   "source": [
    "A recursive function is a function in code that refers to itself for execution. Recursive functions can be simple or elaborate. They allow for more efficient code writing, for instance, in the listing or compiling of sets of numbers, strings or other variables through a single reiterated process.\n",
    "it has a base case when funtion reach base it returs that value and other is recursive part.\n"
   ]
  },
  {
   "cell_type": "markdown",
   "id": "f9092b52",
   "metadata": {},
   "source": [
    "# 6. What are some general design guidelines for coding functions?"
   ]
  },
  {
   "cell_type": "markdown",
   "id": "ef98f5f6",
   "metadata": {},
   "source": [
    "Wrap lines so that they don't exceed 79 characters : The Python standard library is conservative and requires limiting lines to 79 characters. The lines can be wrapped using parenthesis, brackets, and braces. They should be used in preference to backslashes."
   ]
  },
  {
   "cell_type": "markdown",
   "id": "efa2efd7",
   "metadata": {},
   "source": [
    "# 7. Name three or more ways that functions can communicate results to a caller."
   ]
  },
  {
   "cell_type": "code",
   "execution_count": null,
   "id": "3a01297b",
   "metadata": {},
   "outputs": [],
   "source": [
    "1. Function can return single value\n",
    "2. Can return multiple values, tuple\n",
    "3. can return list,dictionary\n",
    "4. can return function object\n",
    "5. can return class object"
   ]
  }
 ],
 "metadata": {
  "kernelspec": {
   "display_name": "Python 3 (ipykernel)",
   "language": "python",
   "name": "python3"
  },
  "language_info": {
   "codemirror_mode": {
    "name": "ipython",
    "version": 3
   },
   "file_extension": ".py",
   "mimetype": "text/x-python",
   "name": "python",
   "nbconvert_exporter": "python",
   "pygments_lexer": "ipython3",
   "version": "3.9.12"
  }
 },
 "nbformat": 4,
 "nbformat_minor": 5
}
