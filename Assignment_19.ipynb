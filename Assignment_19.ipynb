{
  "nbformat": 4,
  "nbformat_minor": 0,
  "metadata": {
    "colab": {
      "provenance": []
    },
    "kernelspec": {
      "name": "python3",
      "display_name": "Python 3"
    },
    "language_info": {
      "name": "python"
    }
  },
  "cells": [
    {
      "cell_type": "markdown",
      "source": [
        "# Assignment_19"
      ],
      "metadata": {
        "id": "zAMGaV-K3q6P"
      }
    },
    {
      "cell_type": "markdown",
      "source": [
        "### 1. Make a class called Thing with no contents and print it. Then, create an object called example from this class and also print it. Are the printed values the same or different?"
      ],
      "metadata": {
        "id": "M-9dFeMt3yhr"
      }
    },
    {
      "cell_type": "code",
      "execution_count": 1,
      "metadata": {
        "id": "aUksJrLsvKIl"
      },
      "outputs": [],
      "source": [
        "class Thing:\n",
        "  pass\n"
      ]
    },
    {
      "cell_type": "code",
      "source": [
        "print(Thing)"
      ],
      "metadata": {
        "colab": {
          "base_uri": "https://localhost:8080/"
        },
        "id": "KSThvggP7XaY",
        "outputId": "de00744d-5568-4028-a782-13659a89aa6b"
      },
      "execution_count": 3,
      "outputs": [
        {
          "output_type": "stream",
          "name": "stdout",
          "text": [
            "<class '__main__.Thing'>\n"
          ]
        }
      ]
    },
    {
      "cell_type": "code",
      "source": [
        "example=Thing()"
      ],
      "metadata": {
        "id": "vrbJ0vU57OXl"
      },
      "execution_count": 2,
      "outputs": []
    },
    {
      "cell_type": "code",
      "source": [
        "print(example)"
      ],
      "metadata": {
        "colab": {
          "base_uri": "https://localhost:8080/"
        },
        "id": "O8M0yec57Th-",
        "outputId": "72404e8c-5e38-4657-9312-7a080f7bc2bc"
      },
      "execution_count": 4,
      "outputs": [
        {
          "output_type": "stream",
          "name": "stdout",
          "text": [
            "<__main__.Thing object at 0x7f808d63c3a0>\n"
          ]
        }
      ]
    },
    {
      "cell_type": "markdown",
      "source": [
        "### 2. Create a new class called Thing2 and add the value 'abc' to the letters class attribute. Letters should be printed."
      ],
      "metadata": {
        "id": "M_wIz2Im7f1w"
      }
    },
    {
      "cell_type": "code",
      "source": [
        "class Thing2:\n",
        "  class_attribute='abc'"
      ],
      "metadata": {
        "id": "SYc0HPRy7bVC"
      },
      "execution_count": 5,
      "outputs": []
    },
    {
      "cell_type": "code",
      "source": [
        "print(Thing2.class_attribute)"
      ],
      "metadata": {
        "colab": {
          "base_uri": "https://localhost:8080/"
        },
        "id": "_NwqJjdN7po5",
        "outputId": "bfd7f1c6-cb62-47e1-cb6f-3bbdefb19e63"
      },
      "execution_count": 6,
      "outputs": [
        {
          "output_type": "stream",
          "name": "stdout",
          "text": [
            "abc\n"
          ]
        }
      ]
    },
    {
      "cell_type": "markdown",
      "source": [
        "### 3. Make yet another class called, of course, Thing3. This time, assign the value 'xyz' to an instance (object) attribute called letters. Print letters. Do you need to make an object from the class to do this?"
      ],
      "metadata": {
        "id": "-Wshfy-6N72q"
      }
    },
    {
      "cell_type": "code",
      "source": [
        "class Thing3:\n",
        "  def __init__(self):\n",
        "    self.letters='xyz'\n",
        "    "
      ],
      "metadata": {
        "id": "cSO5pm6b7v3W"
      },
      "execution_count": 1,
      "outputs": []
    },
    {
      "cell_type": "code",
      "source": [
        "print(Thing3.letters)"
      ],
      "metadata": {
        "colab": {
          "base_uri": "https://localhost:8080/",
          "height": 165
        },
        "id": "niv9YcQvOcod",
        "outputId": "7458a38b-a820-46a2-a7be-4236b31cf12a"
      },
      "execution_count": 2,
      "outputs": [
        {
          "output_type": "error",
          "ename": "AttributeError",
          "evalue": "ignored",
          "traceback": [
            "\u001b[0;31m---------------------------------------------------------------------------\u001b[0m",
            "\u001b[0;31mAttributeError\u001b[0m                            Traceback (most recent call last)",
            "\u001b[0;32m<ipython-input-2-6f5d5916809a>\u001b[0m in \u001b[0;36m<module>\u001b[0;34m\u001b[0m\n\u001b[0;32m----> 1\u001b[0;31m \u001b[0mprint\u001b[0m\u001b[0;34m(\u001b[0m\u001b[0mThing3\u001b[0m\u001b[0;34m.\u001b[0m\u001b[0mletters\u001b[0m\u001b[0;34m)\u001b[0m\u001b[0;34m\u001b[0m\u001b[0;34m\u001b[0m\u001b[0m\n\u001b[0m",
            "\u001b[0;31mAttributeError\u001b[0m: type object 'Thing3' has no attribute 'letters'"
          ]
        }
      ]
    },
    {
      "cell_type": "markdown",
      "source": [
        "We cannot print instance variable without any object. we can only print class varible using class name."
      ],
      "metadata": {
        "id": "p0VOjsDYOqit"
      }
    },
    {
      "cell_type": "code",
      "source": [
        "obj=Thing3()\n",
        "print(obj.letters)"
      ],
      "metadata": {
        "colab": {
          "base_uri": "https://localhost:8080/"
        },
        "id": "5oWxv7aYOiVe",
        "outputId": "41f4daa8-36a8-440f-fec4-863cfeae2c4d"
      },
      "execution_count": 3,
      "outputs": [
        {
          "output_type": "stream",
          "name": "stdout",
          "text": [
            "xyz\n"
          ]
        }
      ]
    },
    {
      "cell_type": "markdown",
      "source": [
        "### 4. Create an Element class with the instance attributes name, symbol, and number. Create a class object with the values 'Hydrogen,' 'H,' and 1."
      ],
      "metadata": {
        "id": "WHRpOG-_O6Wg"
      }
    },
    {
      "cell_type": "code",
      "source": [
        "from re import S\n",
        "class Element:\n",
        "  def __init__(self,name,symbol,number):\n",
        "    self.name=name\n",
        "    self.symbol=symbol\n",
        "    self.number=number"
      ],
      "metadata": {
        "id": "dxWb-lcoOohn"
      },
      "execution_count": 14,
      "outputs": []
    },
    {
      "cell_type": "code",
      "source": [
        "obj1=Element('Hydrogen','H',1)"
      ],
      "metadata": {
        "id": "MptL31VRPWDU"
      },
      "execution_count": 15,
      "outputs": []
    },
    {
      "cell_type": "markdown",
      "source": [
        "### 5. Make a dictionary with these keys and values: 'name': 'Hydrogen', 'symbol': 'H', 'number': 1. Then, create an object called hydrogen from class Element using this dictionary."
      ],
      "metadata": {
        "id": "Wd-DZzukPvLK"
      }
    },
    {
      "cell_type": "code",
      "source": [
        "dict1={'name': 'Hydrogen', 'symbol': 'H', 'number': 1}\n",
        "Hydrogen=Element(dict1['name'],dict1['symbol'],dict1['number'])\n",
        "\n",
        "print(Hydrogen.name)"
      ],
      "metadata": {
        "colab": {
          "base_uri": "https://localhost:8080/"
        },
        "id": "CJGNExatPe0u",
        "outputId": "e3db14d4-32a7-4910-e7f9-8de97b96f44c"
      },
      "execution_count": 16,
      "outputs": [
        {
          "output_type": "stream",
          "name": "stdout",
          "text": [
            "Hydrogen\n"
          ]
        }
      ]
    },
    {
      "cell_type": "markdown",
      "source": [
        "### 6. For the Element class, define a method called dump() that prints the values of the object’s attributes (name, symbol, and number). Create the hydrogen object from this new definition and use dump() to print its attributes."
      ],
      "metadata": {
        "id": "IeQ_-N6gQkRd"
      }
    },
    {
      "cell_type": "code",
      "source": [
        "class Element:\n",
        "        def __init__(self, name, symbol, number):\n",
        "            self.name = name\n",
        "            self.symbol = symbol\n",
        "            self.number = number\n",
        "        def dump(self):\n",
        "            print('name=%s, symbol=%s, number=%s' %\n",
        "                (self.name, self.symbol, self.number))"
      ],
      "metadata": {
        "id": "3aDvPnc-QUs1"
      },
      "execution_count": 17,
      "outputs": []
    },
    {
      "cell_type": "code",
      "source": [
        "hydrogen = Element(**dict1)"
      ],
      "metadata": {
        "id": "tRtXvrJcQ5zB"
      },
      "execution_count": 19,
      "outputs": []
    },
    {
      "cell_type": "code",
      "source": [
        "hydrogen.dump()"
      ],
      "metadata": {
        "colab": {
          "base_uri": "https://localhost:8080/"
        },
        "id": "h7Sn-B2_Q9e3",
        "outputId": "8694e0c2-65d8-4be8-b4cd-aabbb31e7de4"
      },
      "execution_count": 20,
      "outputs": [
        {
          "output_type": "stream",
          "name": "stdout",
          "text": [
            "name=Hydrogen, symbol=H, number=1\n"
          ]
        }
      ]
    },
    {
      "cell_type": "markdown",
      "source": [
        "### 7. Call print(hydrogen). In the definition of Element, change the name of method dump to str, create a new hydrogen object, and call print(hydrogen) again."
      ],
      "metadata": {
        "id": "vPOSEfTFRFhH"
      }
    },
    {
      "cell_type": "code",
      "source": [
        "print(hydrogen)"
      ],
      "metadata": {
        "colab": {
          "base_uri": "https://localhost:8080/"
        },
        "id": "PtcsGof5RDh-",
        "outputId": "ec6c9f32-ab41-431a-ff95-6ef4d22d16db"
      },
      "execution_count": 21,
      "outputs": [
        {
          "output_type": "stream",
          "name": "stdout",
          "text": [
            "<__main__.Element object at 0x7f27eeb7db50>\n"
          ]
        }
      ]
    },
    {
      "cell_type": "code",
      "source": [
        "class Element:\n",
        "        def __init__(self, name, symbol, number):\n",
        "            self.name = name\n",
        "            self.symbol = symbol\n",
        "            self.number = number\n",
        "        def __str__(self):\n",
        "            return ('name=%s, symbol=%s, number=%s' %\n",
        "                (self.name, self.symbol, self.number))"
      ],
      "metadata": {
        "id": "aKvAnSY8RXtG"
      },
      "execution_count": 22,
      "outputs": []
    },
    {
      "cell_type": "code",
      "source": [
        "hydrogen = Element(**dict1)\n",
        "print(hydrogen)"
      ],
      "metadata": {
        "colab": {
          "base_uri": "https://localhost:8080/"
        },
        "id": "jUOqZFvBRZ7p",
        "outputId": "0f3cc357-5d2e-4bca-ca25-75439bd7917f"
      },
      "execution_count": 23,
      "outputs": [
        {
          "output_type": "stream",
          "name": "stdout",
          "text": [
            "name=Hydrogen, symbol=H, number=1\n"
          ]
        }
      ]
    },
    {
      "cell_type": "markdown",
      "source": [
        "### 8. Modify Element to make the attributes name, symbol, and number private. Define a getter property for each to return its value."
      ],
      "metadata": {
        "id": "9S3DZ0PARgn_"
      }
    },
    {
      "cell_type": "code",
      "source": [
        "class Element:\n",
        "        def __init__(self, name, symbol, number):\n",
        "            self.__name = name\n",
        "            self.__symbol = symbol\n",
        "            self.__number = number\n",
        "        @property\n",
        "        def name(self):\n",
        "            return self.__name\n",
        "        @property\n",
        "        def symbol(self):\n",
        "            return self.__symbol\n",
        "        @property\n",
        "        def number(self):\n",
        "            return self.__number"
      ],
      "metadata": {
        "id": "TSDX4RPsRdtg"
      },
      "execution_count": 24,
      "outputs": []
    },
    {
      "cell_type": "code",
      "source": [
        "hydrogen = Element('Hydrogen', 'H', 1)\n",
        "hydrogen.name"
      ],
      "metadata": {
        "colab": {
          "base_uri": "https://localhost:8080/",
          "height": 36
        },
        "id": "RQKeZXpgRzIH",
        "outputId": "14074d0d-d492-4ca4-9a39-f8bfa30490f9"
      },
      "execution_count": 25,
      "outputs": [
        {
          "output_type": "execute_result",
          "data": {
            "text/plain": [
              "'Hydrogen'"
            ],
            "application/vnd.google.colaboratory.intrinsic+json": {
              "type": "string"
            }
          },
          "metadata": {},
          "execution_count": 25
        }
      ]
    },
    {
      "cell_type": "markdown",
      "source": [
        "### 9. Define three classes: Bear, Rabbit, and Octothorpe. For each, define only one method: eats(). This should return 'berries' (Bear), 'clover' (Rabbit), or 'campers' (Octothorpe). Create one object from each and print what it eats."
      ],
      "metadata": {
        "id": "sv0eNg8QR7sQ"
      }
    },
    {
      "cell_type": "code",
      "source": [
        "class Bear:\n",
        "        def eats(self):\n",
        "            return 'berries'\n",
        "class Rabbit:\n",
        "     def eats(self):\n",
        "        return 'clover'\n",
        "class Octothorpe:\n",
        "     def eats(self):\n",
        "            return 'campers'"
      ],
      "metadata": {
        "id": "FfP1U_WyR3Y5"
      },
      "execution_count": 26,
      "outputs": []
    },
    {
      "cell_type": "code",
      "source": [
        "b = Bear()\n",
        "r = Rabbit()\n",
        "o = Octothorpe()"
      ],
      "metadata": {
        "id": "DyZBUstvSKQr"
      },
      "execution_count": 27,
      "outputs": []
    },
    {
      "cell_type": "code",
      "source": [
        "print(b.eats())"
      ],
      "metadata": {
        "colab": {
          "base_uri": "https://localhost:8080/"
        },
        "id": "WYe3Pd8_SM3F",
        "outputId": "78c1604c-8abd-4b55-8013-d39a154fbbc7"
      },
      "execution_count": 28,
      "outputs": [
        {
          "output_type": "stream",
          "name": "stdout",
          "text": [
            "berries\n"
          ]
        }
      ]
    },
    {
      "cell_type": "code",
      "source": [
        "print(r.eats())"
      ],
      "metadata": {
        "colab": {
          "base_uri": "https://localhost:8080/"
        },
        "id": "Nv3GDWKxSQuQ",
        "outputId": "2abe1ae0-7773-4a7b-b846-5ae09f888c2a"
      },
      "execution_count": 29,
      "outputs": [
        {
          "output_type": "stream",
          "name": "stdout",
          "text": [
            "clover\n"
          ]
        }
      ]
    },
    {
      "cell_type": "code",
      "source": [
        "print(o.eats())"
      ],
      "metadata": {
        "colab": {
          "base_uri": "https://localhost:8080/"
        },
        "id": "cv55B_TdSSy3",
        "outputId": "00a60084-2918-449e-d068-6d71a32ac182"
      },
      "execution_count": 30,
      "outputs": [
        {
          "output_type": "stream",
          "name": "stdout",
          "text": [
            "campers\n"
          ]
        }
      ]
    },
    {
      "cell_type": "markdown",
      "source": [
        "### 10. Define these classes: Laser, Claw, and SmartPhone. Each has only one method: does(). This returns 'disintegrate' (Laser), 'crush' (Claw), or 'ring' (SmartPhone). Then, define the class Robot that has one instance (object) of each of these. Define a does() method for the Robot that prints what its component objects do."
      ],
      "metadata": {
        "id": "h0cY6_fUSX6Q"
      }
    },
    {
      "cell_type": "code",
      "source": [
        "class Laser:\n",
        "    def does(self):\n",
        "             return 'disintegrate'\n",
        "class Claw:\n",
        "     def does(self):\n",
        "            return 'crush'\n",
        "\n",
        "class SmartPhone:\n",
        "     def does(self):\n",
        "            return 'ring'\n",
        "\n",
        "class Robot:\n",
        "    def __init__(self):\n",
        "            self.laser = Laser()\n",
        "            self.claw = Claw()\n",
        "            self.smartphone = SmartPhone()\n",
        "    def does(self):\n",
        "            return '''I have many attachments:\n",
        "            My laser, to %s.\n",
        "            My claw, to %s.\n",
        "            My smartphone, to %s.''' % (\n",
        "            self.laser.does(),\n",
        "            self.claw.does(),\n",
        "            self.smartphone.does() )"
      ],
      "metadata": {
        "id": "IDmSenJpSU3i"
      },
      "execution_count": 31,
      "outputs": []
    },
    {
      "cell_type": "code",
      "source": [
        "robbie = Robot()\n",
        "print(robbie.does())"
      ],
      "metadata": {
        "id": "QiZaNP95SoVQ",
        "outputId": "efa5cde8-6d51-4fc5-e29b-e3f33cabf3b7",
        "colab": {
          "base_uri": "https://localhost:8080/"
        }
      },
      "execution_count": 32,
      "outputs": [
        {
          "output_type": "stream",
          "name": "stdout",
          "text": [
            "I have many attachments:\n",
            "            My laser, to disintegrate.\n",
            "            My claw, to crush.\n",
            "            My smartphone, to ring.\n"
          ]
        }
      ]
    }
  ]
}