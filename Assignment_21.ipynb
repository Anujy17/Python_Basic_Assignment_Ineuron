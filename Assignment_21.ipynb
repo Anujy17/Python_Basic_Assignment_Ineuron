{
  "nbformat": 4,
  "nbformat_minor": 0,
  "metadata": {
    "colab": {
      "provenance": []
    },
    "kernelspec": {
      "name": "python3",
      "display_name": "Python 3"
    },
    "language_info": {
      "name": "python"
    }
  },
  "cells": [
    {
      "cell_type": "markdown",
      "source": [
        "# Assignment 21"
      ],
      "metadata": {
        "id": "In2qRSCPf2D-"
      }
    },
    {
      "cell_type": "markdown",
      "source": [
        "### 1. Add the current date to the text file today.txt as a string."
      ],
      "metadata": {
        "id": "vwl9-0irf6Hn"
      }
    },
    {
      "cell_type": "code",
      "source": [
        "from datetime import date\n",
        "now = date.today()\n",
        "now_str = now.isoformat()"
      ],
      "metadata": {
        "id": "AoS1pSAcf51p"
      },
      "execution_count": 1,
      "outputs": []
    },
    {
      "cell_type": "code",
      "execution_count": 2,
      "metadata": {
        "id": "aZ0D-6J6fzCl"
      },
      "outputs": [],
      "source": [
        "with open('today', 'wt') as output:\n",
        "    print(now_str, file=output)"
      ]
    },
    {
      "cell_type": "markdown",
      "source": [
        "### 2. Read the text file today.txt into the string today_string"
      ],
      "metadata": {
        "id": "dOPzugHrgMMI"
      }
    },
    {
      "cell_type": "code",
      "source": [
        "with open('today', 'rt') as input:\n",
        "    today_string = input.read()\n",
        "today_string"
      ],
      "metadata": {
        "colab": {
          "base_uri": "https://localhost:8080/",
          "height": 36
        },
        "id": "7A_ARjPqgLQP",
        "outputId": "1f995ecc-3584-4078-e6c4-ecc4e6b93cef"
      },
      "execution_count": 3,
      "outputs": [
        {
          "output_type": "execute_result",
          "data": {
            "text/plain": [
              "'2023-03-17\\n'"
            ],
            "application/vnd.google.colaboratory.intrinsic+json": {
              "type": "string"
            }
          },
          "metadata": {},
          "execution_count": 3
        }
      ]
    },
    {
      "cell_type": "markdown",
      "source": [
        "### 3. Parse the date from today_string."
      ],
      "metadata": {
        "id": "XdoNxN9-gVJy"
      }
    },
    {
      "cell_type": "code",
      "source": [
        "fmt = '%Y-%m-%d\\n'"
      ],
      "metadata": {
        "id": "DFyP5LPigRpl"
      },
      "execution_count": 4,
      "outputs": []
    },
    {
      "cell_type": "markdown",
      "source": [
        "datetime.strptime(today_string, fmt)"
      ],
      "metadata": {
        "id": "U25nT5Ikhkzz"
      }
    },
    {
      "cell_type": "markdown",
      "source": [
        "### 4. List the files in your current directory"
      ],
      "metadata": {
        "id": "wTs4Z4rkgmQ8"
      }
    },
    {
      "cell_type": "code",
      "source": [
        "import os\n",
        "os.listdir('.')"
      ],
      "metadata": {
        "colab": {
          "base_uri": "https://localhost:8080/"
        },
        "id": "0yoeC0icgdCn",
        "outputId": "e7d86a1f-3cb6-445f-ec87-78d4914a635e"
      },
      "execution_count": 6,
      "outputs": [
        {
          "output_type": "execute_result",
          "data": {
            "text/plain": [
              "['.config', 'today', 'sample_data']"
            ]
          },
          "metadata": {},
          "execution_count": 6
        }
      ]
    },
    {
      "cell_type": "markdown",
      "source": [
        "### 5. Create a list of all of the files in your parent directory (minimum five files should be available)."
      ],
      "metadata": {
        "id": "6yQx4ZI8gu53"
      }
    },
    {
      "cell_type": "code",
      "source": [
        "import os\n",
        "os.listdir('..')"
      ],
      "metadata": {
        "colab": {
          "base_uri": "https://localhost:8080/"
        },
        "id": "fxfewnsVgrG-",
        "outputId": "a3be4e75-8af4-49a1-f206-28f3f4ca79ec"
      },
      "execution_count": 8,
      "outputs": [
        {
          "output_type": "execute_result",
          "data": {
            "text/plain": [
              "['tmp',\n",
              " 'etc',\n",
              " 'proc',\n",
              " 'boot',\n",
              " 'bin',\n",
              " 'sbin',\n",
              " 'lib',\n",
              " 'srv',\n",
              " 'home',\n",
              " 'mnt',\n",
              " 'libx32',\n",
              " 'lib32',\n",
              " 'opt',\n",
              " 'usr',\n",
              " 'media',\n",
              " 'lib64',\n",
              " 'run',\n",
              " 'sys',\n",
              " 'root',\n",
              " 'dev',\n",
              " 'var',\n",
              " 'content',\n",
              " '.dockerenv',\n",
              " 'datalab',\n",
              " 'tools',\n",
              " 'python-apt',\n",
              " 'NGC-DL-CONTAINER-LICENSE']"
            ]
          },
          "metadata": {},
          "execution_count": 8
        }
      ]
    },
    {
      "cell_type": "markdown",
      "source": [
        "### 6. Use multiprocessing to create three separate processes. Make each one wait a random number of seconds between one and five, print the current time, and then exit."
      ],
      "metadata": {
        "id": "E64VP-R7hARS"
      }
    },
    {
      "cell_type": "markdown",
      "source": [
        "import multiprocessing\n",
        "\n",
        "def now(seconds): from datetime import datetime from time import sleep sleep(seconds) print('wait', seconds, 'seconds, time is', datetime.utcnow())\n",
        "\n",
        "if name == 'main': import random for n in range(3): seconds = random.random() proc = multiprocessing.Process(target=now, args=(seconds,)) proc.start()"
      ],
      "metadata": {
        "id": "Vk7_ZYFThC7T"
      }
    },
    {
      "cell_type": "markdown",
      "source": [
        "### 7. Create a date object of your day of birth."
      ],
      "metadata": {
        "id": "Et3iYJ_QhIHg"
      }
    },
    {
      "cell_type": "code",
      "source": [
        "my_day = date(1995, 7, 12)\n",
        "my_day"
      ],
      "metadata": {
        "colab": {
          "base_uri": "https://localhost:8080/"
        },
        "id": "Q3cs50lNg5BM",
        "outputId": "755665ac-64dd-474c-ffae-b4bdb2e83c27"
      },
      "execution_count": 9,
      "outputs": [
        {
          "output_type": "execute_result",
          "data": {
            "text/plain": [
              "datetime.date(1995, 7, 12)"
            ]
          },
          "metadata": {},
          "execution_count": 9
        }
      ]
    },
    {
      "cell_type": "markdown",
      "source": [
        "### 8. What day of the week was your day of birth?"
      ],
      "metadata": {
        "id": "OfyiUVpKhOba"
      }
    },
    {
      "cell_type": "code",
      "source": [
        "my_day.weekday()"
      ],
      "metadata": {
        "colab": {
          "base_uri": "https://localhost:8080/"
        },
        "id": "YsnEgJsYhL1a",
        "outputId": "611b60f5-53a5-4516-9b3e-66b3cacbb320"
      },
      "execution_count": 10,
      "outputs": [
        {
          "output_type": "execute_result",
          "data": {
            "text/plain": [
              "2"
            ]
          },
          "metadata": {},
          "execution_count": 10
        }
      ]
    },
    {
      "cell_type": "code",
      "source": [
        "my_day.isoweekday()"
      ],
      "metadata": {
        "colab": {
          "base_uri": "https://localhost:8080/"
        },
        "id": "8XuOsXbrhSb-",
        "outputId": "c3455c19-fc50-4d18-b3a0-4f0fcc0fb2df"
      },
      "execution_count": 11,
      "outputs": [
        {
          "output_type": "execute_result",
          "data": {
            "text/plain": [
              "3"
            ]
          },
          "metadata": {},
          "execution_count": 11
        }
      ]
    },
    {
      "cell_type": "markdown",
      "source": [
        "With weekday(), Monday is 0 and Sunday is 6. With isoweekday(), Monday is 1 and Sunday is 7. Therefore, this date was a Saturday."
      ],
      "metadata": {
        "id": "33PDyDCGhZT3"
      }
    },
    {
      "cell_type": "markdown",
      "source": [
        "### 9. When will you be (or when were you) 10,000 days old?"
      ],
      "metadata": {
        "id": "4VZv9PHchdXo"
      }
    },
    {
      "cell_type": "code",
      "source": [
        "from datetime import timedelta\n",
        "party_day = my_day + timedelta(days=10000)\n",
        "party_day"
      ],
      "metadata": {
        "colab": {
          "base_uri": "https://localhost:8080/"
        },
        "id": "MHblvZMKhUY7",
        "outputId": "c8a389ae-ba71-4fab-8e5b-85f31c505cfa"
      },
      "execution_count": 12,
      "outputs": [
        {
          "output_type": "execute_result",
          "data": {
            "text/plain": [
              "datetime.date(2022, 11, 27)"
            ]
          },
          "metadata": {},
          "execution_count": 12
        }
      ]
    }
  ]
}