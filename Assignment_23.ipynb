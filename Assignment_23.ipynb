{
 "cells": [
  {
   "cell_type": "markdown",
   "id": "223678cf",
   "metadata": {},
   "source": [
    "# Assignment 23"
   ]
  },
  {
   "cell_type": "markdown",
   "id": "3d1d246d",
   "metadata": {},
   "source": [
    "# 1. What is the result of the code, and why?\n"
   ]
  },
  {
   "cell_type": "markdown",
   "id": "9b342c02",
   "metadata": {},
   "source": [
    "the answer would be 1,2,8 because a become 1 and b become 2 from 6 and c has default value which is 8"
   ]
  },
  {
   "cell_type": "code",
   "execution_count": 1,
   "id": "341912f9",
   "metadata": {},
   "outputs": [
    {
     "name": "stdout",
     "output_type": "stream",
     "text": [
      "1 2 8\n"
     ]
    }
   ],
   "source": [
    "def func(a,b=6,c=8):\n",
    "    print(a,b,c)\n",
    "func(1,2)"
   ]
  },
  {
   "cell_type": "markdown",
   "id": "96bde951",
   "metadata": {},
   "source": [
    "# What is the result of this code, and why?"
   ]
  },
  {
   "cell_type": "code",
   "execution_count": 6,
   "id": "23fd92c9",
   "metadata": {},
   "outputs": [
    {
     "name": "stdout",
     "output_type": "stream",
     "text": [
      "1 2 3\n"
     ]
    }
   ],
   "source": [
    "def func(a,b,c=5):\n",
    "    print(a,b,c)\n",
    "func(1,c=3,b=2)"
   ]
  },
  {
   "cell_type": "markdown",
   "id": "959ca20b",
   "metadata": {},
   "source": [
    "this gives 1,2,3 because a is 1 b is assigned as 2 and c has been changed from default value to 3"
   ]
  },
  {
   "cell_type": "markdown",
   "id": "af03f63c",
   "metadata": {},
   "source": [
    "# How about this code: what is its result, and why?"
   ]
  },
  {
   "cell_type": "code",
   "execution_count": 7,
   "id": "e7647642",
   "metadata": {},
   "outputs": [
    {
     "name": "stdout",
     "output_type": "stream",
     "text": [
      "1 (2, 3)\n"
     ]
    }
   ],
   "source": [
    "def func(a,*pargs):\n",
    "    print(a,pargs)\n",
    "func(1,2,3)"
   ]
  },
  {
   "cell_type": "markdown",
   "id": "e092d552",
   "metadata": {},
   "source": [
    "output will be 1 (2,3) because a can contain single variable where as *pargs means it take tuple values which can be more than one"
   ]
  },
  {
   "cell_type": "markdown",
   "id": "ba798f3c",
   "metadata": {},
   "source": [
    "# What does this code print, and why?"
   ]
  },
  {
   "cell_type": "code",
   "execution_count": 8,
   "id": "541f908c",
   "metadata": {},
   "outputs": [
    {
     "name": "stdout",
     "output_type": "stream",
     "text": [
      "1 {'c': 3, 'b': 2}\n"
     ]
    }
   ],
   "source": [
    "def func(a,**kargs):\n",
    "    print(a,kargs)\n",
    "func(a=1,c=3,b=2)"
   ]
  },
  {
   "cell_type": "markdown",
   "id": "8434b2fb",
   "metadata": {},
   "source": [
    "a is variable which contain single value that is 1 and kargs is dict type container which mean we have to provide the key value pair to them it is going to printed"
   ]
  },
  {
   "cell_type": "markdown",
   "id": "6bd16f57",
   "metadata": {},
   "source": [
    "# What gets printed by this, and explain?"
   ]
  },
  {
   "cell_type": "code",
   "execution_count": 10,
   "id": "c83ec234",
   "metadata": {},
   "outputs": [
    {
     "name": "stdout",
     "output_type": "stream",
     "text": [
      "1 5 6 5\n"
     ]
    }
   ],
   "source": [
    "def func(a,b,c=8,d=5): print(a,b,c,d)\n",
    "func(1,*(5,6))"
   ]
  },
  {
   "cell_type": "markdown",
   "id": "e2de02da",
   "metadata": {},
   "source": [
    " when we provide 1 it is assigned to a and for *(5,6) it treat it as tuple and b,c is assigned the values inside that "
   ]
  },
  {
   "cell_type": "markdown",
   "id": "7909ff54",
   "metadata": {},
   "source": [
    "# what is the result of this, and explain?"
   ]
  },
  {
   "cell_type": "code",
   "execution_count": 14,
   "id": "2d64816f",
   "metadata": {},
   "outputs": [
    {
     "data": {
      "text/plain": [
       "(1, ['x'], {'a': 'y'})"
      ]
     },
     "execution_count": 14,
     "metadata": {},
     "output_type": "execute_result"
    }
   ],
   "source": [
    "def func(a,b,c): a=2;b[0]='x';c['a']='y'\n",
    "\n",
    "l=1;m=[1];n={'a':0}\n",
    "\n",
    "func(l,m,n)\n",
    "\n",
    "l,m,n"
   ]
  },
  {
   "cell_type": "markdown",
   "id": "5ccbe03c",
   "metadata": {},
   "source": [
    "Here in func(l,m,n) we passed l=1(user input), m is passed as list contain 1 element i.e 'x', n is passed as dictionary i.e {'a':'y'}"
   ]
  }
 ],
 "metadata": {
  "kernelspec": {
   "display_name": "Python 3 (ipykernel)",
   "language": "python",
   "name": "python3"
  },
  "language_info": {
   "codemirror_mode": {
    "name": "ipython",
    "version": 3
   },
   "file_extension": ".py",
   "mimetype": "text/x-python",
   "name": "python",
   "nbconvert_exporter": "python",
   "pygments_lexer": "ipython3",
   "version": "3.9.12"
  }
 },
 "nbformat": 4,
 "nbformat_minor": 5
}
