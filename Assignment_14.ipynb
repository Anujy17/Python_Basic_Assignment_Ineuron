{
  "nbformat": 4,
  "nbformat_minor": 0,
  "metadata": {
    "colab": {
      "provenance": []
    },
    "kernelspec": {
      "name": "python3",
      "display_name": "Python 3"
    },
    "language_info": {
      "name": "python"
    }
  },
  "cells": [
    {
      "cell_type": "markdown",
      "source": [
        "# Assignment 14"
      ],
      "metadata": {
        "id": "l5Zui5DwyjxT"
      }
    },
    {
      "cell_type": "markdown",
      "source": [
        "### 1. What does RGBA stand for?"
      ],
      "metadata": {
        "id": "_vJMG2ZCynue"
      }
    },
    {
      "cell_type": "markdown",
      "source": [
        "**Ans:** RGBA is a four-channel format containing data for Red, Green, Blue, and an Alpha value. Where Alpha Represents the Opacity"
      ],
      "metadata": {
        "id": "Vp8VgF0hyqI9"
      }
    },
    {
      "cell_type": "markdown",
      "source": [
        "### 2. From the Pillow module, how do you get the RGBA value of any images?"
      ],
      "metadata": {
        "id": "GoDTQt8FzEZ2"
      }
    },
    {
      "cell_type": "markdown",
      "source": [
        "Ans: ImageColor.getcolor() gives rgba value of any image"
      ],
      "metadata": {
        "id": "fXKsrljJzJN7"
      }
    },
    {
      "cell_type": "markdown",
      "source": [
        "### 3. What is a box tuple, and how does it work?"
      ],
      "metadata": {
        "id": "E2HuBeLazMJP"
      }
    },
    {
      "cell_type": "markdown",
      "source": [
        "Ans: A box tuple is a tuple value of four integers: the left-edge x-coordinate, the top-edge y-coordinate,the width, and the height, respectively."
      ],
      "metadata": {
        "id": "REUW0OYDzQS8"
      }
    },
    {
      "cell_type": "markdown",
      "source": [
        "### 4. Use your image and load in notebook then, How can you find out the width and height of an Image object?"
      ],
      "metadata": {
        "id": "_wwRAPrrzZNI"
      }
    },
    {
      "cell_type": "code",
      "source": [
        "#Example Program\n",
        "from PIL import Image\n",
        "pic = Image.open('/content/drive/MyDrive/abd/ab-pro.jpg')\n",
        "print(f'Width, Height -> {pic.size}') # Approach 1\n",
        "print(f'Width, Height -> {pic.width},{pic.height}') # Approach 2\n",
        "width,height = pic.size\n",
        "print(f'Width, Height -> {width},{height}') # Approach 3"
      ],
      "metadata": {
        "colab": {
          "base_uri": "https://localhost:8080/"
        },
        "id": "lQxoQLX_zeXl",
        "outputId": "1c35e7f9-e3b1-4473-d1ae-ce625ce675cd"
      },
      "execution_count": 2,
      "outputs": [
        {
          "output_type": "stream",
          "name": "stdout",
          "text": [
            "Width, Height -> (2056, 1536)\n",
            "Width, Height -> 2056,1536\n",
            "Width, Height -> 2056,1536\n"
          ]
        }
      ]
    },
    {
      "cell_type": "markdown",
      "source": [
        "### 5. What method would you call to get Image object for a 100×100 image, excluding the lower-left quarter of it?"
      ],
      "metadata": {
        "id": "ShyU8AiV0S4_"
      }
    },
    {
      "cell_type": "code",
      "source": [
        "from PIL import Image\n",
        "img = Image.open('/content/drive/MyDrive/abd/ab-pro.jpg')\n",
        "new_img = img.crop((0,50,50,50))"
      ],
      "metadata": {
        "id": "Rc-n5a7206f9"
      },
      "execution_count": 3,
      "outputs": []
    },
    {
      "cell_type": "markdown",
      "source": [
        "### 6. After making changes to an Image object, how could you save it as an image file?"
      ],
      "metadata": {
        "id": "8wkFh--g1D8h"
      }
    },
    {
      "cell_type": "code",
      "source": [
        "#Example Program\n",
        "from PIL import Image\n",
        "pic = Image.open('/content/drive/MyDrive/abd/ab-pro.jpg')\n",
        "pic.save('pic2.jpg')"
      ],
      "metadata": {
        "id": "0_Tr15Zh1Bjr"
      },
      "execution_count": 4,
      "outputs": []
    },
    {
      "cell_type": "markdown",
      "source": [
        "### 7. What module contains Pillow’s shape-drawing code?"
      ],
      "metadata": {
        "id": "zgN6fDP_1RGE"
      }
    },
    {
      "cell_type": "markdown",
      "source": [
        "Ans: Pillows ImageDraw module contains Shape drawing methods"
      ],
      "metadata": {
        "id": "4YzuDpz01SfS"
      }
    },
    {
      "cell_type": "markdown",
      "source": [
        "### 8. Image objects do not have drawing methods. What kind of object does? How do you get this kind of object?"
      ],
      "metadata": {
        "id": "_KoE2Iqx1U1Y"
      }
    },
    {
      "cell_type": "markdown",
      "source": [
        "Ans: ImageDraw objects have shape-drawing methods such as point(), line(), or rectangle().They are returned by passing the Image object to the ImageDraw.Draw() function."
      ],
      "metadata": {
        "id": "9pKrENL91a8W"
      }
    }
  ]
}